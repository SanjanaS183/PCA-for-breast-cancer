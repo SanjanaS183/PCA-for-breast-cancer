{
  "cells": [
    {
      "cell_type": "markdown",
      "metadata": {
        "id": "view-in-github",
        "colab_type": "text"
      },
      "source": [
        "<a href=\"https://colab.research.google.com/github/SanjanaS183/PCA-for-breast-cancer/blob/main/PCA_for_breast_cancer.ipynb\" target=\"_parent\"><img src=\"https://colab.research.google.com/assets/colab-badge.svg\" alt=\"Open In Colab\"/></a>"
      ]
    },
    {
      "cell_type": "code",
      "execution_count": null,
      "id": "74fc5fca-44c5-4b75-8c62-e87dd7d5bd17",
      "metadata": {
        "id": "74fc5fca-44c5-4b75-8c62-e87dd7d5bd17",
        "outputId": "336d5a29-3b56-48d3-f28d-a94b65b81104"
      },
      "outputs": [
        {
          "data": {
            "text/html": [
              "<div>\n",
              "<style scoped>\n",
              "    .dataframe tbody tr th:only-of-type {\n",
              "        vertical-align: middle;\n",
              "    }\n",
              "\n",
              "    .dataframe tbody tr th {\n",
              "        vertical-align: top;\n",
              "    }\n",
              "\n",
              "    .dataframe thead th {\n",
              "        text-align: right;\n",
              "    }\n",
              "</style>\n",
              "<table border=\"1\" class=\"dataframe\">\n",
              "  <thead>\n",
              "    <tr style=\"text-align: right;\">\n",
              "      <th></th>\n",
              "      <th>Clump Thickness</th>\n",
              "      <th>Uniformity of Cell Size</th>\n",
              "      <th>Uniformity of Cell Shape</th>\n",
              "      <th>Marginal Adhesion</th>\n",
              "      <th>Single Epithelial Cell Size</th>\n",
              "      <th>Bare Nuclei</th>\n",
              "      <th>Bland Chromatin</th>\n",
              "      <th>Normal Nucleoli</th>\n",
              "      <th>Mitoses</th>\n",
              "      <th>Class</th>\n",
              "    </tr>\n",
              "  </thead>\n",
              "  <tbody>\n",
              "    <tr>\n",
              "      <th>0</th>\n",
              "      <td>5</td>\n",
              "      <td>1</td>\n",
              "      <td>1</td>\n",
              "      <td>1</td>\n",
              "      <td>2</td>\n",
              "      <td>1</td>\n",
              "      <td>3</td>\n",
              "      <td>1</td>\n",
              "      <td>1</td>\n",
              "      <td>2</td>\n",
              "    </tr>\n",
              "    <tr>\n",
              "      <th>1</th>\n",
              "      <td>5</td>\n",
              "      <td>4</td>\n",
              "      <td>4</td>\n",
              "      <td>5</td>\n",
              "      <td>7</td>\n",
              "      <td>10</td>\n",
              "      <td>3</td>\n",
              "      <td>2</td>\n",
              "      <td>1</td>\n",
              "      <td>2</td>\n",
              "    </tr>\n",
              "    <tr>\n",
              "      <th>2</th>\n",
              "      <td>3</td>\n",
              "      <td>1</td>\n",
              "      <td>1</td>\n",
              "      <td>1</td>\n",
              "      <td>2</td>\n",
              "      <td>2</td>\n",
              "      <td>3</td>\n",
              "      <td>1</td>\n",
              "      <td>1</td>\n",
              "      <td>2</td>\n",
              "    </tr>\n",
              "    <tr>\n",
              "      <th>3</th>\n",
              "      <td>6</td>\n",
              "      <td>8</td>\n",
              "      <td>8</td>\n",
              "      <td>1</td>\n",
              "      <td>3</td>\n",
              "      <td>4</td>\n",
              "      <td>3</td>\n",
              "      <td>7</td>\n",
              "      <td>1</td>\n",
              "      <td>2</td>\n",
              "    </tr>\n",
              "    <tr>\n",
              "      <th>4</th>\n",
              "      <td>4</td>\n",
              "      <td>1</td>\n",
              "      <td>1</td>\n",
              "      <td>3</td>\n",
              "      <td>2</td>\n",
              "      <td>1</td>\n",
              "      <td>3</td>\n",
              "      <td>1</td>\n",
              "      <td>1</td>\n",
              "      <td>2</td>\n",
              "    </tr>\n",
              "  </tbody>\n",
              "</table>\n",
              "</div>"
            ],
            "text/plain": [
              "   Clump Thickness  Uniformity of Cell Size  Uniformity of Cell Shape  \\\n",
              "0                5                        1                         1   \n",
              "1                5                        4                         4   \n",
              "2                3                        1                         1   \n",
              "3                6                        8                         8   \n",
              "4                4                        1                         1   \n",
              "\n",
              "   Marginal Adhesion  Single Epithelial Cell Size Bare Nuclei  \\\n",
              "0                  1                            2           1   \n",
              "1                  5                            7          10   \n",
              "2                  1                            2           2   \n",
              "3                  1                            3           4   \n",
              "4                  3                            2           1   \n",
              "\n",
              "   Bland Chromatin  Normal Nucleoli  Mitoses  Class  \n",
              "0                3                1        1      2  \n",
              "1                3                2        1      2  \n",
              "2                3                1        1      2  \n",
              "3                3                7        1      2  \n",
              "4                3                1        1      2  "
            ]
          },
          "execution_count": 3,
          "metadata": {},
          "output_type": "execute_result"
        }
      ],
      "source": [
        "import pandas as pd\n",
        "data = pd.read_csv('https://archive.ics.uci.edu/ml/machine-learning-databases/breast-cancer-wisconsin/breast-cancer-wisconsin.data', header=None)\n",
        "data.columns = ['Sample code', 'Clump Thickness', 'Uniformity of Cell Size', 'Uniformity of Cell Shape',\n",
        "                'Marginal Adhesion', 'Single Epithelial Cell Size', 'Bare Nuclei', 'Bland Chromatin',\n",
        "                'Normal Nucleoli', 'Mitoses','Class']\n",
        "\n",
        "data = data.drop(['Sample code'],axis=1)\n",
        "data.head()"
      ]
    },
    {
      "cell_type": "code",
      "execution_count": null,
      "id": "45f2ec64-1a0d-429b-a5d4-080a067e758b",
      "metadata": {
        "id": "45f2ec64-1a0d-429b-a5d4-080a067e758b",
        "outputId": "fd8fb297-779a-4a99-de10-e318ad170383"
      },
      "outputs": [
        {
          "name": "stdout",
          "output_type": "stream",
          "text": [
            "Number of instances = 699\n",
            "Number of attributes = 10\n",
            "Number of missing values:\n",
            "\tClump Thickness: 0\n",
            "\tUniformity of Cell Size: 0\n",
            "\tUniformity of Cell Shape: 0\n",
            "\tMarginal Adhesion: 0\n",
            "\tSingle Epithelial Cell Size: 0\n",
            "\tBare Nuclei: 16\n",
            "\tBland Chromatin: 0\n",
            "\tNormal Nucleoli: 0\n",
            "\tMitoses: 0\n",
            "\tClass: 0\n"
          ]
        }
      ],
      "source": [
        "import numpy as np\n",
        "\n",
        "data = data.replace('?',np.NaN)\n",
        "\n",
        "print('Number of instances = %d' % (data.shape[0]))\n",
        "print('Number of attributes = %d' % (data.shape[1]))\n",
        "\n",
        "print('Number of missing values:')\n",
        "for col in data.columns:\n",
        "    print('\\t%s: %d' % (col,data[col].isna().sum()))"
      ]
    },
    {
      "cell_type": "code",
      "execution_count": null,
      "id": "5ac95af8-efbe-4d3e-b61f-ba3079666617",
      "metadata": {
        "id": "5ac95af8-efbe-4d3e-b61f-ba3079666617",
        "outputId": "5bf09a5f-9560-4dee-bcf0-6d40ff0fbf49"
      },
      "outputs": [
        {
          "name": "stdout",
          "output_type": "stream",
          "text": [
            "Before replacing missing values:\n",
            "20     10\n",
            "21      7\n",
            "22      1\n",
            "23    NaN\n",
            "24      1\n",
            "Name: Bare Nuclei, dtype: object\n",
            "\n",
            "After replacing missing values:\n",
            "20     10\n",
            "21      7\n",
            "22      1\n",
            "23    1.0\n",
            "24      1\n",
            "Name: Bare Nuclei, dtype: object\n"
          ]
        }
      ],
      "source": [
        "data2 = data['Bare Nuclei']\n",
        "\n",
        "print('Before replacing missing values:')\n",
        "print(data2[20:25])\n",
        "data2 = data2.fillna(data2.median())\n",
        "\n",
        "print('\\nAfter replacing missing values:')\n",
        "print(data2[20:25])"
      ]
    },
    {
      "cell_type": "code",
      "execution_count": null,
      "id": "4af20d55-8849-4135-ad82-96e95ce3d9d2",
      "metadata": {
        "id": "4af20d55-8849-4135-ad82-96e95ce3d9d2",
        "outputId": "26670af0-3c14-42e1-b794-817c19e9fe65"
      },
      "outputs": [
        {
          "name": "stdout",
          "output_type": "stream",
          "text": [
            "Number of rows in original data = 699\n",
            "Number of rows after discarding missing values = 683\n"
          ]
        }
      ],
      "source": [
        "print('Number of rows in original data = %d' % (data.shape[0]))\n",
        "\n",
        "data2 = data.dropna()\n",
        "print('Number of rows after discarding missing values = %d' % (data2.shape[0]))"
      ]
    },
    {
      "cell_type": "code",
      "execution_count": null,
      "id": "58030d31-2a8b-4d2e-8485-bbda86250c2d",
      "metadata": {
        "id": "58030d31-2a8b-4d2e-8485-bbda86250c2d"
      },
      "outputs": [],
      "source": [
        " data['Bare Nuclei'] = data2['Bare Nuclei']"
      ]
    },
    {
      "cell_type": "code",
      "execution_count": null,
      "id": "4f595c9f-8a16-47a6-941f-7844e12fdcb0",
      "metadata": {
        "id": "4f595c9f-8a16-47a6-941f-7844e12fdcb0",
        "outputId": "de518e6c-a3cf-4b86-f281-89a21ca56f01"
      },
      "outputs": [
        {
          "name": "stdout",
          "output_type": "stream",
          "text": [
            "Number of missing values:\n",
            "\tClump Thickness: 0\n",
            "\tUniformity of Cell Size: 0\n",
            "\tUniformity of Cell Shape: 0\n",
            "\tMarginal Adhesion: 0\n",
            "\tSingle Epithelial Cell Size: 0\n",
            "\tBare Nuclei: 0\n",
            "\tBland Chromatin: 0\n",
            "\tNormal Nucleoli: 0\n",
            "\tMitoses: 0\n",
            "\tClass: 0\n"
          ]
        }
      ],
      "source": [
        "print('Number of missing values:')\n",
        "for col in data.columns:\n",
        "    print('\\t%s: %d' % (col,data2[col].isna().sum()))\n",
        "    data = data.dropna()"
      ]
    },
    {
      "cell_type": "code",
      "execution_count": null,
      "id": "1da5427c-b51a-4300-8466-3ddb77476698",
      "metadata": {
        "id": "1da5427c-b51a-4300-8466-3ddb77476698"
      },
      "outputs": [],
      "source": [
        "from sklearn.preprocessing import StandardScaler\n",
        "features = ['Clump Thickness', 'Uniformity of Cell Size', 'Uniformity of Cell Shape',\n",
        "                'Marginal Adhesion', 'Single Epithelial Cell Size', 'Bare Nuclei', 'Bland Chromatin',\n",
        "                'Normal Nucleoli', 'Mitoses','Class']\n",
        "# Separating out the features\n",
        "x = data.loc[:, features].values\n"
      ]
    },
    {
      "cell_type": "code",
      "execution_count": null,
      "id": "4e5b0c06-f2a1-4e09-a87a-122e82b97a12",
      "metadata": {
        "id": "4e5b0c06-f2a1-4e09-a87a-122e82b97a12",
        "outputId": "7ab177de-2ab6-418d-d85f-995cdaf7a443"
      },
      "outputs": [
        {
          "name": "stdout",
          "output_type": "stream",
          "text": [
            "[[5 1 1 ... 1 1 2]\n",
            " [5 4 4 ... 2 1 2]\n",
            " [3 1 1 ... 1 1 2]\n",
            " ...\n",
            " [5 10 10 ... 10 2 4]\n",
            " [4 8 6 ... 6 1 4]\n",
            " [4 8 8 ... 4 1 4]]\n"
          ]
        }
      ],
      "source": [
        "print(x)"
      ]
    },
    {
      "cell_type": "code",
      "execution_count": null,
      "id": "d95ff7be-5c35-4bb4-88cd-244051e19159",
      "metadata": {
        "id": "d95ff7be-5c35-4bb4-88cd-244051e19159",
        "outputId": "626f9cc7-5c0a-47aa-e9a9-cfad78f7dac7"
      },
      "outputs": [
        {
          "name": "stdout",
          "output_type": "stream",
          "text": [
            "     principal component 1  principal component 2  Class\n",
            "0                -4.533612               0.016022    2.0\n",
            "1                 4.698577              -4.672853    2.0\n",
            "2                -4.683503              -0.606807    2.0\n",
            "3                 4.970368               3.423539    2.0\n",
            "4                -4.171511              -0.091477    2.0\n",
            "..                     ...                    ...    ...\n",
            "678              -5.015485              -0.426349    2.0\n",
            "679              -5.997655               0.226304    2.0\n",
            "680              10.338720               7.271599    4.0\n",
            "681               6.510944               2.491060    4.0\n",
            "682               7.602745               1.215308    2.0\n",
            "\n",
            "[683 rows x 3 columns]\n"
          ]
        }
      ],
      "source": [
        "from sklearn.decomposition import PCA\n",
        "pca = PCA(n_components=2)\n",
        "principalComponents = pca.fit_transform(data)\n",
        "principalDf = pd.DataFrame(data = principalComponents, columns = ['principal component 1', 'principal component 2'])\n",
        "data3 = data['Class']\n",
        "principalDf['Class'] = data3\n",
        "print(principalDf)"
      ]
    },
    {
      "cell_type": "code",
      "execution_count": null,
      "id": "04a10a77-d06f-4ac8-8664-6d48ce5467fd",
      "metadata": {
        "id": "04a10a77-d06f-4ac8-8664-6d48ce5467fd",
        "outputId": "9a1cf7ff-a345-445d-a254-67950fc0b123"
      },
      "outputs": [
        {
          "name": "stdout",
          "output_type": "stream",
          "text": [
            "[0.69227915 0.07115388]\n"
          ]
        }
      ],
      "source": [
        "exp_var_pca = pca.explained_variance_ratio_\n",
        "print(exp_var_pca)"
      ]
    },
    {
      "cell_type": "code",
      "execution_count": null,
      "id": "46f6bd0e-052f-4e34-90c8-3d0ebab1e0c1",
      "metadata": {
        "id": "46f6bd0e-052f-4e34-90c8-3d0ebab1e0c1",
        "outputId": "bf605fca-4db7-45a8-81a3-b97ae661ce95"
      },
      "outputs": [
        {
          "data": {
            "image/png": "[encoded data removed]",
            "text/plain": [
              "<Figure size 640x480 with 1 Axes>"
            ]
          },
          "metadata": {},
          "output_type": "display_data"
        }
      ],
      "source": [
        "import matplotlib.pyplot as plt\n",
        "colors = {2:'b', 4:'r'}\n",
        "markerTypes = {2:'+', 4:'x'}\n",
        "for cancertype in markerTypes:\n",
        "    d = principalDf[principalDf['Class']==cancertype]\n",
        "    plt.scatter(d['principal component 1'],d['principal component 2'],c=colors[cancertype],s=60,marker=markerTypes[cancertype])\n",
        "plt.xlabel('Principal component 1')\n",
        "plt.ylabel('Principal component 2')\n",
        "plt.legend(markerTypes.keys())\n",
        "plt.show()"
      ]
    },
    {
      "cell_type": "markdown",
      "id": "96c64831-c4d6-43ee-9304-a7e459aecf35",
      "metadata": {
        "id": "96c64831-c4d6-43ee-9304-a7e459aecf35"
      },
      "source": [
        "Explained Variance Ratio as a metric to evaluate the usefulness of your principal components and to choose how many components to use in your model. The explained variance ratio is the percentage of variance that is attributed by each of the selected components. "
      ]
    },
    {
      "cell_type": "code",
      "execution_count": null,
      "id": "f1adae89-5b17-4be8-879e-8c59a05b487f",
      "metadata": {
        "id": "f1adae89-5b17-4be8-879e-8c59a05b487f"
      },
      "outputs": [],
      "source": []
    }
  ],
  "metadata": {
    "kernelspec": {
      "display_name": "Python 3 (ipykernel)",
      "language": "python",
      "name": "python3"
    },
    "language_info": {
      "codemirror_mode": {
        "name": "ipython",
        "version": 3
      },
      "file_extension": ".py",
      "mimetype": "text/x-python",
      "name": "python",
      "nbconvert_exporter": "python",
      "pygments_lexer": "ipython3",
      "version": "3.9.13"
    },
    "colab": {
      "provenance": [],
      "include_colab_link": true
    }
  },
  "nbformat": 4,
  "nbformat_minor": 5
}